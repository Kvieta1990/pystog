{
 "cells": [
  {
   "cell_type": "markdown",
   "metadata": {
    "deletable": true,
    "editable": true
   },
   "source": [
    "## How to use the StoG class from PyStoG\n",
    "\n"
   ]
  },
  {
   "cell_type": "code",
   "execution_count": null,
   "metadata": {
    "collapsed": false,
    "deletable": true,
    "editable": true
   },
   "outputs": [],
   "source": [
    "%matplotlib inline"
   ]
  },
  {
   "cell_type": "markdown",
   "metadata": {
    "collapsed": true,
    "deletable": true,
    "editable": true
   },
   "source": [
    "Now, lets load in some test data for Argon from our test suite. We extract the $Q$ and $S(Q)$ \n",
    "along with the $r$ and $g(r) as well as some material-specific information to initialize StoG."
   ]
  },
  {
   "cell_type": "code",
   "execution_count": null,
   "metadata": {
    "collapsed": true
   },
   "outputs": [],
   "source": [
    "cat ../data/test_data/argon.reciprocal_space.dat"
   ]
  },
  {
   "cell_type": "code",
   "execution_count": null,
   "metadata": {
    "collapsed": true
   },
   "outputs": [],
   "source": [
    "cat ../data/test_data/argon.real_space.dat"
   ]
  },
  {
   "cell_type": "code",
   "execution_count": null,
   "metadata": {
    "collapsed": true,
    "deletable": true,
    "editable": true
   },
   "outputs": [],
   "source": [
    "import numpy as np\n",
    "from tests.materials import Argon\n",
    "from tests.utils import get_index_of_function\n",
    "from pystog.utils import ReciprocalSpaceHeaders, RealSpaceHeaders\n",
    "\n",
    "material = Argon()\n",
    "    \n",
    "reciprocal_space_filename = \"../data/test_data/argon.reciprocal_space.dat\"\n",
    "\n",
    "data = np.loadtxt(reciprocal_space_filename, skiprows=2)\n",
    "q = data[:, get_index_of_function(\"Q\", ReciprocalSpaceHeaders)]\n",
    "sq = data[:, get_index_of_function(\"S(Q)\", RealSpaceHeaders)]\n",
    "\n",
    "real_space_filename = \"../data/test_data/argon.real_space.dat\"\n",
    "                 \n",
    "data = np.loadtxt(real_space_filename, skiprows=2)\n",
    "r = data[:, get_index_of_function(\"r\", RealSpaceHeaders)]\n",
    "gofr = data[:, get_index_of_function(\"g(r)\", RealSpaceHeaders)]\n",
    "\n",
    "kwargs_for_stog_input = {\n",
    "    'NumberDensity': material.kwargs['rho'],\n",
    "    '<b_coh>^2': material.kwargs['<b_coh>^2'],\n",
    "    '<b_tot^2>': material.kwargs['<b_tot^2>'],\n",
    "    'FourierFilter': {'Cutoff': 1.5},\n",
    "    'OmittedXrangeCorrection': False,\n",
    "    'Rdelta': r[1] -r[0],\n",
    "    'Rmin': min(r),\n",
    "    'Rmax': max(r)\n",
    "}\n",
    "\n",
    "kwargs_for_files = {\n",
    "    'Files': [\n",
    "        {'Filename': reciprocal_space_filename,\n",
    "         'ReciprocalFunction': 'S(Q)',\n",
    "         'Qmin': 0.02,\n",
    "         'Qmax': 15.0,\n",
    "         'Y': {'Offset': 0.0,\n",
    "               'Scale': 1.0},\n",
    "         'X': {'Offset': 0.0}\n",
    "         },\n",
    "        {'Filename': reciprocal_space_filename,\n",
    "         'ReciprocalFunction': 'S(Q)',\n",
    "         'Qmin': 1.90,\n",
    "         'Qmax': 35.2,\n",
    "         'Y': {'Offset': 0.0,\n",
    "               'Scale': 1.0},\n",
    "         'X': {'Offset': 0.0}\n",
    "         }\n",
    "    ]\n",
    "}\n"
   ]
  },
  {
   "cell_type": "code",
   "execution_count": null,
   "metadata": {
    "collapsed": true,
    "deletable": true,
    "editable": true
   },
   "outputs": [],
   "source": [
    "from pystog import StoG\n",
    "stog = StoG(**kwargs_for_stog_input)\n",
    "stog.plot_flag = False\n",
    "stog.stem_name = \"dog\"\n",
    "stog.files = kwargs_for_files['Files']\n",
    "stog.read_all_data()\n",
    "stog.merge_data()\n",
    "stog.transform_merged()\n",
    "stog.fourier_filter()"
   ]
  },
  {
   "cell_type": "code",
   "execution_count": null,
   "metadata": {
    "collapsed": true
   },
   "outputs": [],
   "source": [
    "stog.plot_merged_sq()"
   ]
  },
  {
   "cell_type": "code",
   "execution_count": null,
   "metadata": {
    "collapsed": true
   },
   "outputs": [],
   "source": [
    "stog.plot_sq()"
   ]
  },
  {
   "cell_type": "code",
   "execution_count": null,
   "metadata": {
    "collapsed": true
   },
   "outputs": [],
   "source": [
    "stog.plot_gr()"
   ]
  }
 ],
 "metadata": {
  "kernelspec": {
   "display_name": "Python 3",
   "language": "python",
   "name": "python3"
  },
  "language_info": {
   "codemirror_mode": {
    "name": "ipython",
    "version": 3
   },
   "file_extension": ".py",
   "mimetype": "text/x-python",
   "name": "python",
   "nbconvert_exporter": "python",
   "pygments_lexer": "ipython3",
   "version": "3.6.7"
  }
 },
 "nbformat": 4,
 "nbformat_minor": 2
}
