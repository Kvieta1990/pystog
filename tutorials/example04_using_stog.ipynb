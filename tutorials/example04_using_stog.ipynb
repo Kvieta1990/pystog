{
 "cells": [
  {
   "cell_type": "markdown",
   "metadata": {
    "deletable": true,
    "editable": true
   },
   "source": [
    "## How to use the StoG class from PyStoG\n",
    "\n"
   ]
  },
  {
   "cell_type": "code",
   "execution_count": 1,
   "metadata": {
    "collapsed": false,
    "deletable": true,
    "editable": true
   },
   "outputs": [
    {
     "ename": "ModuleNotFoundError",
     "evalue": "No module named 'pystog'",
     "output_type": "error",
     "traceback": [
      "\u001b[0;31m---------------------------------------------------------------------------\u001b[0m",
      "\u001b[0;31mModuleNotFoundError\u001b[0m                       Traceback (most recent call last)",
      "\u001b[0;32m<ipython-input-1-e06f65302bd2>\u001b[0m in \u001b[0;36m<module>\u001b[0;34m()\u001b[0m\n\u001b[0;32m----> 1\u001b[0;31m \u001b[0;32mfrom\u001b[0m \u001b[0mpystog\u001b[0m \u001b[0;32mimport\u001b[0m \u001b[0mstog\u001b[0m\u001b[0;34m\u001b[0m\u001b[0;34m\u001b[0m\u001b[0m\n\u001b[0m",
      "\u001b[0;31mModuleNotFoundError\u001b[0m: No module named 'pystog'"
     ]
    }
   ],
   "source": [
    "from pystog.stog import StoG\n"
   ]
  },
  {
   "cell_type": "markdown",
   "metadata": {
    "collapsed": true,
    "deletable": true,
    "editable": true
   },
   "source": [
    "Now, lets load in some test data for Argon from our test suite. We extract the $Q$ and $S(Q)$ \n",
    "along with the $r$ and $g(r) as well as some material-specific information to initialize StoG."
   ]
  },
  {
   "cell_type": "code",
   "execution_count": null,
   "metadata": {
    "collapsed": true
   },
   "outputs": [],
   "source": [
    "from tests.materials import Argon\n",
    "material = Argon()\n",
    "\n",
    "from tests.utils import \\\n",
    "    get_data_path, load_data, get_index_of_function, REAL_HEADERS, RECIPROCAL_HEADERS\n",
    "    \n",
    "data = load_data(material.reciprocal_space_filename)\n",
    "q = data[:, get_index_of_function(\"Q\", RECIPROCAL_HEADERS)]\n",
    "sq = data[:, get_index_of_function(\"S(Q)\", RECIPROCAL_HEADERS)]\n",
    "\n",
    "data = load_data(material.real_space_filename)\n",
    "r = data[:, get_index_of_function(\"r\", REAL_HEADERS)]\n",
    "gofr = data[:, get_index_of_function(\"g(r)\", REAL_HEADERS)]\n",
    "\n",
    "kwargs_for_stog_input = {\n",
    "    'NumberDensity': material.kwargs['rho'],\n",
    "    '<b_coh>^2': material.kwargs['<b_coh>^2'],\n",
    "    '<b_tot^2>': material.kwargs['<b_tot^2>'],\n",
    "    'FourierFilter': {'Cutoff': fourier_filter_cutoff},\n",
    "    'OmittedXrangeCorrection': False,\n",
    "    'Rdelta': r[1] -r[0],\n",
    "    'Rmin': min(r),\n",
    "    'Rmax': max(r)\n",
    "}\n",
    "\n",
    "kwargs_for_files = {\n",
    "    'Files': [\n",
    "        {'Filename': get_data_path(material.reciprocal_space_filename),\n",
    "         'ReciprocalFunction': 'S(Q)',\n",
    "         'Qmin': 0.02,\n",
    "         'Qmax': 15.0,\n",
    "         'Y': {'Offset': 0.0,\n",
    "               'Scale': 1.0},\n",
    "         'X': {'Offset': 0.0}\n",
    "         },\n",
    "        {'Filename': get_data_path(material.reciprocal_space_filename),\n",
    "         'ReciprocalFunction': 'S(Q)',\n",
    "         'Qmin': 1.90,\n",
    "         'Qmax': 35.2,\n",
    "         'Y': {'Offset': 0.0,\n",
    "               'Scale': 1.0},\n",
    "         'X': {'Offset': 0.0}\n",
    "         }\n",
    "    ]\n",
    "}\n"
   ]
  },
  {
   "cell_type": "code",
   "execution_count": null,
   "metadata": {
    "collapsed": true
   },
   "outputs": [],
   "source": [
    "stog = StoG(**kwargs_for_stog_input)\n",
    "stog.plot_flag = False\n",
    "stog.stem_name = \"dog\"\n",
    "stog.files = kwargs_for_files['Files']\n",
    "stog.read_all_data()\n",
    "stog.merge_data()\n",
    "stog.transform_merged()"
   ]
  }
 ],
 "metadata": {
  "kernelspec": {
   "display_name": "Python 3",
   "language": "python",
   "name": "python3"
  },
  "language_info": {
   "codemirror_mode": {
    "name": "ipython",
    "version": 3
   },
   "file_extension": ".py",
   "mimetype": "text/x-python",
   "name": "python",
   "nbconvert_exporter": "python",
   "pygments_lexer": "ipython3",
   "version": "3.6.7"
  }
 },
 "nbformat": 4,
 "nbformat_minor": 2
}
